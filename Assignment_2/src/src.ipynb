{
  "cells": [
    {
      "cell_type": "code",
      "execution_count": 8,
      "metadata": {
        "id": "5CAkeXIY_V9Y"
      },
      "outputs": [],
      "source": [
        "import pandas as pd\n",
        "\n",
        "# Load your CSV file (after downloading from Box)\n",
        "df = pd.read_csv('train.csv')  # replace with actual filename\n",
        "\n"
      ]
    },
    {
      "cell_type": "code",
      "execution_count": 11,
      "metadata": {
        "colab": {
          "base_uri": "https://localhost:8080/"
        },
        "id": "q3um9gqYAtwC",
        "outputId": "b312c247-6196-4240-b6a5-304c4fb8d983"
      },
      "outputs": [
        {
          "name": "stdout",
          "output_type": "stream",
          "text": [
            "Missing values of each coloum:\n",
            " Unnamed: 0              0\n",
            "Name                    0\n",
            "Location                0\n",
            "Year                    0\n",
            "Kilometers_Driven       0\n",
            "Fuel_Type               0\n",
            "Transmission            0\n",
            "Owner_Type              0\n",
            "Mileage                 0\n",
            "Engine                  0\n",
            "Power                  36\n",
            "Seats                  38\n",
            "New_Price            5032\n",
            "Price                   0\n",
            "dtype: int64\n"
          ]
        }
      ],
      "source": [
        "\n",
        "# Check missing values\n",
        "print(\"Missing values of each coloum:\\n\",df.isnull().sum())\n",
        "\n",
        "# Remove non-numeric characters using regex and convert to float\n",
        "df['Mileage'] = df['Mileage'].astype(str).str.extract(r'(\\d+\\.?\\d*)').astype(float)\n",
        "df['Engine'] = df['Engine'].astype(str).str.extract(r'(\\d+\\.?\\d*)').astype(float)\n",
        "df['Power'] = df['Power'].astype(str).str.extract(r'(\\d+\\.?\\d*)').astype(float)\n",
        "\n",
        "df['Mileage'] = df['Mileage'].fillna(df['Mileage'].median())\n",
        "df['Engine'] = df['Engine'].fillna(df['Engine'].median())\n",
        "df['Power'] = df['Power'].fillna(df['Power'].median())\n",
        "df['Seats'] = df['Seats'].fillna(df['Seats'].mode()[0])\n",
        "\n",
        "\n",
        "# Drop rows with critical missing values if necessary\n",
        "df = df.dropna(subset=['Price'])  # example"
      ]
    },
    {
      "cell_type": "code",
      "execution_count": 19,
      "metadata": {
        "colab": {
          "base_uri": "https://localhost:8080/"
        },
        "id": "D2RxYHc8GF-r",
        "outputId": "5e4e6633-bcef-4a00-857c-2818bc191e04"
      },
      "outputs": [
        {
          "name": "stdout",
          "output_type": "stream",
          "text": [
            "✅ Cleaned dataset saved as 'cleaned_used_cars.csv'\n"
          ]
        }
      ],
      "source": [
        "import pandas as pd\n",
        "\n",
        "# Load the raw dataset\n",
        "df = pd.read_csv('train.csv')  # Replace with your filename\n",
        "\n",
        "# Step 1: Convert to string for regex unit removal\n",
        "for col in ['Mileage', 'Engine', 'Power', 'New_Price']:\n",
        "    df[col] = df[col].astype(str)\n",
        "\n",
        "# Step 2: Remove units from text using regex\n",
        "df['Mileage'] = df['Mileage'].str.extract(r'(\\d+\\.?\\d*)').astype(float)\n",
        "df['Engine'] = df['Engine'].str.extract(r'(\\d+\\.?\\d*)').astype(float)\n",
        "df['Power'] = df['Power'].str.extract(r'(\\d+\\.?\\d*)').astype(float)\n",
        "df['New_Price'] = df['New_Price'].str.replace(' Lakh', '', regex=False)\n",
        "df['New_Price'] = df['New_Price'].str.extract(r'(\\d+\\.?\\d*)').astype(float)\n",
        "\n",
        "# Step 3: Handle missing values\n",
        "df['Mileage'] = df['Mileage'].fillna(df['Mileage'].median())\n",
        "df['Engine'] = df['Engine'].fillna(df['Engine'].median())\n",
        "df['Power'] = df['Power'].fillna(df['Power'].median())\n",
        "df['Seats'] = df['Seats'].fillna(df['Seats'].mode()[0])\n",
        "\n",
        "# Drop rows with missing target variable (Price)\n",
        "df = df.dropna(subset=['Price'])\n",
        "\n",
        "# Step 4: Export the cleaned dataset\n",
        "df.to_csv('cleaned_used_cars.csv', index=False)\n",
        "\n",
        "print(\"✅ Cleaned dataset saved as 'cleaned_used_cars.csv'\")\n"
      ]
    },
    {
      "cell_type": "code",
      "execution_count": 21,
      "metadata": {
        "colab": {
          "base_uri": "https://localhost:8080/"
        },
        "id": "kM_Rw_PMH1XX",
        "outputId": "f85e5686-57be-449e-9703-c2272c3e672b"
      },
      "outputs": [
        {
          "name": "stdout",
          "output_type": "stream",
          "text": [
            "✅ Units removed and dataset saved as 'fully_cleaned_used_cars.csv'\n"
          ]
        }
      ],
      "source": [
        "import pandas as pd\n",
        "\n",
        "# Load the cleaned dataset from the previous step\n",
        "df = pd.read_csv('cleaned_used_cars.csv')  # This is your already cleaned file (missing values handled)\n",
        "\n",
        "# Step: Convert to string to perform unit removal\n",
        "df['Mileage'] = df['Mileage'].astype(str).str.extract(r'(\\d+\\.?\\d*)').astype(float)\n",
        "df['Engine'] = df['Engine'].astype(str).str.extract(r'(\\d+\\.?\\d*)').astype(float)\n",
        "df['Power'] = df['Power'].astype(str).str.extract(r'(\\d+\\.?\\d*)').astype(float)\n",
        "df['New_Price'] = df['New_Price'].astype(str).str.replace(' Lakh', '', regex=False)\n",
        "df['New_Price'] = df['New_Price'].str.extract(r'(\\d+\\.?\\d*)').astype(float)\n",
        "\n",
        "# Save the fully cleaned data to a new file\n",
        "df.to_csv('fully_cleaned_used_cars.csv', index=False)\n",
        "\n",
        "print(\"✅ Units removed and dataset saved as 'fully_cleaned_used_cars.csv'\")\n"
      ]
    },
    {
      "cell_type": "code",
      "execution_count": 22,
      "metadata": {
        "colab": {
          "base_uri": "https://localhost:8080/"
        },
        "id": "NTrlmGzdIRG1",
        "outputId": "ea235543-d991-4b89-9fc2-2d6ba6c40a6b"
      },
      "outputs": [
        {
          "name": "stdout",
          "output_type": "stream",
          "text": [
            "✅ One-hot encoded dataset saved as 'encoded_used_cars.csv'\n"
          ]
        }
      ],
      "source": [
        "import pandas as pd\n",
        "\n",
        "# Load the cleaned data (with units removed)\n",
        "df = pd.read_csv('fully_cleaned_used_cars.csv')\n",
        "\n",
        "# Perform one-hot encoding for 'Fuel_Type' and 'Transmission'\n",
        "df_encoded = pd.get_dummies(df, columns=['Fuel_Type', 'Transmission'], drop_first=True)\n",
        "\n",
        "# Save the final encoded dataset\n",
        "df_encoded.to_csv('encoded_used_cars.csv', index=False)\n",
        "\n",
        "print(\"✅ One-hot encoded dataset saved as 'encoded_used_cars.csv'\")\n"
      ]
    },
    {
      "cell_type": "code",
      "execution_count": 23,
      "metadata": {
        "colab": {
          "base_uri": "https://localhost:8080/"
        },
        "id": "nEGigZGLIljH",
        "outputId": "53965c92-1893-4f8f-acb2-a62c6dcb0ebe"
      },
      "outputs": [
        {
          "name": "stdout",
          "output_type": "stream",
          "text": [
            "✅ 'Car_Age' column added. Saved as 'final_used_cars_with_age.csv'\n"
          ]
        }
      ],
      "source": [
        "import pandas as pd\n",
        "from datetime import datetime\n",
        "\n",
        "# Load the one-hot encoded dataset\n",
        "df = pd.read_csv('encoded_used_cars.csv')\n",
        "\n",
        "# Calculate current year\n",
        "current_year = datetime.now().year\n",
        "\n",
        "# Create new feature: Car Age\n",
        "df['Car_Age'] = current_year - df['Year']\n",
        "\n",
        "# Save updated dataset\n",
        "df.to_csv('final_used_cars_with_age.csv', index=False)\n",
        "\n",
        "print(\"✅ 'Car_Age' column added. Saved as 'final_used_cars_with_age.csv'\")\n"
      ]
    },
    {
      "cell_type": "code",
      "execution_count": 30,
      "metadata": {
        "colab": {
          "base_uri": "https://localhost:8080/"
        },
        "id": "ztlZkBYXKf_g",
        "outputId": "92538e59-8ee1-4dcc-9c3c-c9ba96f19793"
      },
      "outputs": [
        {
          "name": "stdout",
          "output_type": "stream",
          "text": [
            "✅ Summary - Avg Price by Fuel Type (Diesel=1):\n",
            "        Is_Diesel  Avg_Price\n",
            "0  Column Missing          0\n"
          ]
        }
      ],
      "source": [
        "import pandas as pd\n",
        "from datetime import datetime\n",
        "\n",
        "# ✅ Load your data\n",
        "df = pd.read_csv('final_used_cars_with_age.csv')\n",
        "\n",
        "# ✅ Add Car_Age if not present\n",
        "if 'Car_Age' not in df.columns:\n",
        "    df['Car_Age'] = datetime.now().year - df['Year']\n",
        "\n",
        "# ✅ One-hot encode if not already encoded\n",
        "if 'Fuel_Type' in df.columns or 'Transmission' in df.columns:\n",
        "    df = pd.get_dummies(df, columns=['Fuel_Type', 'Transmission'], drop_first=True)\n",
        "\n",
        "# ✅ Define safe selections\n",
        "columns_to_select = ['Name', 'Year', 'Price', 'Car_Age']\n",
        "if 'Fuel_Type_Diesel' in df.columns:\n",
        "    columns_to_select.append('Fuel_Type_Diesel')\n",
        "if 'Transmission_Automatic' in df.columns:\n",
        "    columns_to_select.append('Transmission_Automatic')\n",
        "\n",
        "# ✅ Select\n",
        "selected_df = df[columns_to_select]\n",
        "\n",
        "# ✅ Filter: cars older than 10 years\n",
        "filtered_df = selected_df[selected_df['Car_Age'] > 10]\n",
        "\n",
        "# ✅ Rename columns (if exist)\n",
        "df = df.rename(columns={\n",
        "    'Kilometers_Driven': 'Odometer',\n",
        "    'Power': 'Horsepower',\n",
        "    'New_Price': 'Original_Price'\n",
        "})\n",
        "\n",
        "# ✅ Mutate: calculate km per year\n",
        "df['Km_per_Year'] = df['Odometer'] / df['Car_Age'].replace(0, 1)\n",
        "\n",
        "# ✅ Arrange: sort by Price\n",
        "sorted_df = df.sort_values(by='Price', ascending=False)\n",
        "\n",
        "# ✅ Summarize: average price by fuel type\n",
        "if 'Fuel_Type_Diesel' in df.columns:\n",
        "    summary_df = df.groupby('Fuel_Type_Diesel')['Price'].mean().reset_index().rename(\n",
        "        columns={'Fuel_Type_Diesel': 'Is_Diesel', 'Price': 'Avg_Price'}\n",
        "    )\n",
        "else:\n",
        "    summary_df = pd.DataFrame({'Is_Diesel': ['Column Missing'], 'Avg_Price': [0]})\n",
        "\n",
        "# ✅ Save outputs\n",
        "selected_df.to_csv('selected_columns.csv', index=False)\n",
        "filtered_df.to_csv('filtered_cars_over_10_years.csv', index=False)\n",
        "sorted_df.to_csv('sorted_by_price.csv', index=False)\n",
        "summary_df.to_csv('avg_price_by_fuel_type.csv', index=False)\n",
        "\n",
        "# ✅ Show summary\n",
        "print(\"✅ Summary - Avg Price by Fuel Type (Diesel=1):\")\n",
        "print(summary_df)\n"
      ]
    }
  ],
  "metadata": {
    "colab": {
      "provenance": []
    },
    "kernelspec": {
      "display_name": "Python 3",
      "name": "python3"
    },
    "language_info": {
      "name": "python"
    }
  },
  "nbformat": 4,
  "nbformat_minor": 0
}
